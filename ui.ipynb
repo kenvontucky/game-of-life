{
 "cells": [
  {
   "cell_type": "code",
   "execution_count": 80,
   "metadata": {},
   "outputs": [],
   "source": [
    "import numpy as np\n",
    "from time import sleep\n",
    "from IPython.display import clear_output, display\n",
    "\n",
    "CELL = 1\n",
    "MAXIMUM = 9\n",
    "LIMIT = MAXIMUM - 1\n",
    "\n",
    "canvas = np.zeros((MAXIMUM,MAXIMUM))\n",
    "next_canvas = np.zeros((MAXIMUM,MAXIMUM))\n",
    "\n",
    "def top(x,y):\n",
    "    xx = x-1\n",
    "    if xx < 0:\n",
    "        return False\n",
    "    return canvas[xx,y] == CELL\n",
    "\n",
    "\n",
    "def bottom(x,y):\n",
    "    xx = x+1\n",
    "    if xx > LIMIT:\n",
    "        return False\n",
    "    return canvas[xx,y] == CELL\n",
    "\n",
    "\n",
    "def right(x,y):\n",
    "    yy = y+1\n",
    "    if yy > LIMIT:\n",
    "        return False\n",
    "    return canvas[x,yy] == CELL\n",
    "\n",
    "def left(x,y):\n",
    "    yy = y-1\n",
    "    if yy < 0:\n",
    "        return False\n",
    "    return canvas[x,yy] == CELL\n",
    "\n",
    "\n",
    "def top_left(x,y):\n",
    "    xx = x-1\n",
    "    yy = y-1\n",
    "    if xx < 0 or yy < 0:\n",
    "        return False \n",
    "    return canvas[xx,yy] == CELL\n",
    "\n",
    "def top_right(x,y):\n",
    "    xx = x-1\n",
    "    yy = y+1\n",
    "    if xx < 0 or yy > LIMIT:\n",
    "        return False \n",
    "    return canvas[xx,yy] == CELL\n",
    "\n",
    "def bottom_left(x,y):\n",
    "    xx = x+1\n",
    "    yy = y-1\n",
    "    if xx > LIMIT or yy < 0:\n",
    "        return False \n",
    "    return canvas[xx,yy] == CELL\n",
    "\n",
    "def bottom_rigt(x,y):\n",
    "    xx = x+1\n",
    "    yy = y+1\n",
    "    if xx > LIMIT or yy > LIMIT:\n",
    "        return False \n",
    "    return canvas[xx,yy] == CELL\n",
    "\n",
    "def neighbours(x,y):\n",
    "    methods = [top, top_left, top_right, right, bottom, bottom_left, bottom_rigt, left]\n",
    "    check = [f(x,y) for f in methods]\n",
    "    return check.count(True)\n",
    "\n",
    "\n",
    "def alive(x,y):\n",
    "    next_canvas[x,y] = CELL\n",
    "\n",
    "def dead(x,y):\n",
    "    next_canvas[x,y] = 0\n",
    "\n",
    "def core(x,y):\n",
    "    cnt = neighbours(x,y)\n",
    "    state = canvas[x,y]\n",
    "\n",
    "    if state == 1 and cnt < 2 or cnt > 3:\n",
    "        dead(x,y)\n",
    "        return\n",
    "\n",
    "    if state == 1 and cnt in [2,3]:\n",
    "        alive(x,y)\n",
    "        return\n",
    "\n",
    "    if state == 0 and cnt == 3:\n",
    "        alive(x,y)\n",
    "        return\n",
    "\n",
    "\n",
    "\n",
    "\n"
   ]
  },
  {
   "cell_type": "code",
   "execution_count": 81,
   "metadata": {},
   "outputs": [
    {
     "data": {
      "text/plain": [
       "array([[0., 1., 0., 0., 0., 0., 0., 0., 0.],\n",
       "       [0., 0., 1., 0., 0., 0., 0., 0., 0.],\n",
       "       [1., 1., 1., 0., 0., 0., 0., 0., 0.],\n",
       "       [0., 0., 0., 0., 0., 0., 0., 0., 0.],\n",
       "       [0., 0., 0., 0., 0., 0., 0., 0., 0.],\n",
       "       [0., 0., 0., 0., 0., 0., 0., 0., 0.],\n",
       "       [0., 0., 0., 0., 0., 0., 0., 0., 0.],\n",
       "       [0., 0., 0., 0., 0., 0., 0., 0., 0.],\n",
       "       [0., 0., 0., 0., 0., 0., 0., 0., 0.]])"
      ]
     },
     "execution_count": 81,
     "metadata": {},
     "output_type": "execute_result"
    }
   ],
   "source": [
    "canvas[0,1]=1\n",
    "canvas[1,2]=1\n",
    "canvas[2,0]=1\n",
    "canvas[2,1]=1\n",
    "canvas[2,2]=1\n",
    "canvas"
   ]
  },
  {
   "cell_type": "code",
   "execution_count": null,
   "metadata": {},
   "outputs": [],
   "source": [
    "check_neighbours(2,0)\n"
   ]
  },
  {
   "cell_type": "code",
   "execution_count": null,
   "metadata": {},
   "outputs": [],
   "source": [
    "canvas[1,:]"
   ]
  },
  {
   "cell_type": "code",
   "execution_count": 82,
   "metadata": {},
   "outputs": [
    {
     "ename": "KeyboardInterrupt",
     "evalue": "",
     "output_type": "error",
     "traceback": [
      "\u001b[0;31m---------------------------------------------------------------------------\u001b[0m",
      "\u001b[0;31mKeyboardInterrupt\u001b[0m                         Traceback (most recent call last)",
      "Cell \u001b[0;32mIn[82], line 6\u001b[0m\n\u001b[1;32m      4\u001b[0m         core(x,y)\n\u001b[1;32m      5\u001b[0m         clear_output(wait\u001b[39m=\u001b[39m\u001b[39mTrue\u001b[39;00m)\n\u001b[0;32m----> 6\u001b[0m         display(next_canvas)\n\u001b[1;32m      7\u001b[0m canvas \u001b[39m=\u001b[39m next_canvas\n\u001b[1;32m      8\u001b[0m next_canvas \u001b[39m=\u001b[39m np\u001b[39m.\u001b[39mzeros((MAXIMUM,MAXIMUM))\n",
      "File \u001b[0;32m~/.cache/pypoetry/virtualenvs/game-of-life-Qfj9Au-s-py3.10/lib/python3.10/site-packages/IPython/core/display_functions.py:298\u001b[0m, in \u001b[0;36mdisplay\u001b[0;34m(include, exclude, metadata, transient, display_id, raw, clear, *objs, **kwargs)\u001b[0m\n\u001b[1;32m    296\u001b[0m     publish_display_data(data\u001b[39m=\u001b[39mobj, metadata\u001b[39m=\u001b[39mmetadata, \u001b[39m*\u001b[39m\u001b[39m*\u001b[39mkwargs)\n\u001b[1;32m    297\u001b[0m \u001b[39melse\u001b[39;00m:\n\u001b[0;32m--> 298\u001b[0m     format_dict, md_dict \u001b[39m=\u001b[39m \u001b[39mformat\u001b[39;49m(obj, include\u001b[39m=\u001b[39;49minclude, exclude\u001b[39m=\u001b[39;49mexclude)\n\u001b[1;32m    299\u001b[0m     \u001b[39mif\u001b[39;00m \u001b[39mnot\u001b[39;00m format_dict:\n\u001b[1;32m    300\u001b[0m         \u001b[39m# nothing to display (e.g. _ipython_display_ took over)\u001b[39;00m\n\u001b[1;32m    301\u001b[0m         \u001b[39mcontinue\u001b[39;00m\n",
      "File \u001b[0;32m~/.cache/pypoetry/virtualenvs/game-of-life-Qfj9Au-s-py3.10/lib/python3.10/site-packages/IPython/core/formatters.py:149\u001b[0m, in \u001b[0;36mDisplayFormatter.format\u001b[0;34m(self, obj, include, exclude)\u001b[0m\n\u001b[1;32m    145\u001b[0m \u001b[39mif\u001b[39;00m \u001b[39mself\u001b[39m\u001b[39m.\u001b[39mipython_display_formatter(obj):\n\u001b[1;32m    146\u001b[0m     \u001b[39m# object handled itself, don't proceed\u001b[39;00m\n\u001b[1;32m    147\u001b[0m     \u001b[39mreturn\u001b[39;00m {}, {}\n\u001b[0;32m--> 149\u001b[0m format_dict, md_dict \u001b[39m=\u001b[39m \u001b[39mself\u001b[39;49m\u001b[39m.\u001b[39;49mmimebundle_formatter(obj, include\u001b[39m=\u001b[39;49minclude, exclude\u001b[39m=\u001b[39;49mexclude)\n\u001b[1;32m    151\u001b[0m \u001b[39mif\u001b[39;00m format_dict \u001b[39mor\u001b[39;00m md_dict:\n\u001b[1;32m    152\u001b[0m     \u001b[39mif\u001b[39;00m include:\n",
      "File \u001b[0;32m~/.cache/pypoetry/virtualenvs/game-of-life-Qfj9Au-s-py3.10/lib/python3.10/site-packages/decorator.py:231\u001b[0m, in \u001b[0;36mdecorate.<locals>.fun\u001b[0;34m(*args, **kw)\u001b[0m\n\u001b[1;32m    229\u001b[0m \u001b[39mdef\u001b[39;00m \u001b[39mfun\u001b[39m(\u001b[39m*\u001b[39margs, \u001b[39m*\u001b[39m\u001b[39m*\u001b[39mkw):\n\u001b[1;32m    230\u001b[0m     \u001b[39mif\u001b[39;00m \u001b[39mnot\u001b[39;00m kwsyntax:\n\u001b[0;32m--> 231\u001b[0m         args, kw \u001b[39m=\u001b[39m fix(args, kw, sig)\n\u001b[1;32m    232\u001b[0m     \u001b[39mreturn\u001b[39;00m caller(func, \u001b[39m*\u001b[39m(extras \u001b[39m+\u001b[39m args), \u001b[39m*\u001b[39m\u001b[39m*\u001b[39mkw)\n",
      "File \u001b[0;32m~/.cache/pypoetry/virtualenvs/game-of-life-Qfj9Au-s-py3.10/lib/python3.10/site-packages/decorator.py:203\u001b[0m, in \u001b[0;36mfix\u001b[0;34m(args, kwargs, sig)\u001b[0m\n\u001b[1;32m    199\u001b[0m \u001b[39mdef\u001b[39;00m \u001b[39mfix\u001b[39m(args, kwargs, sig):\n\u001b[1;32m    200\u001b[0m \u001b[39m    \u001b[39m\u001b[39m\"\"\"\u001b[39;00m\n\u001b[1;32m    201\u001b[0m \u001b[39m    Fix args and kwargs to be consistent with the signature\u001b[39;00m\n\u001b[1;32m    202\u001b[0m \u001b[39m    \"\"\"\u001b[39;00m\n\u001b[0;32m--> 203\u001b[0m     ba \u001b[39m=\u001b[39m sig\u001b[39m.\u001b[39;49mbind(\u001b[39m*\u001b[39;49margs, \u001b[39m*\u001b[39;49m\u001b[39m*\u001b[39;49mkwargs)\n\u001b[1;32m    204\u001b[0m     ba\u001b[39m.\u001b[39mapply_defaults()  \u001b[39m# needed for test_dan_schult\u001b[39;00m\n\u001b[1;32m    205\u001b[0m     \u001b[39mreturn\u001b[39;00m ba\u001b[39m.\u001b[39margs, ba\u001b[39m.\u001b[39mkwargs\n",
      "File \u001b[0;32m/usr/lib/python3.10/inspect.py:3179\u001b[0m, in \u001b[0;36mSignature.bind\u001b[0;34m(self, *args, **kwargs)\u001b[0m\n\u001b[1;32m   3174\u001b[0m \u001b[39mdef\u001b[39;00m \u001b[39mbind\u001b[39m(\u001b[39mself\u001b[39m, \u001b[39m/\u001b[39m, \u001b[39m*\u001b[39margs, \u001b[39m*\u001b[39m\u001b[39m*\u001b[39mkwargs):\n\u001b[1;32m   3175\u001b[0m \u001b[39m    \u001b[39m\u001b[39m\"\"\"Get a BoundArguments object, that maps the passed `args`\u001b[39;00m\n\u001b[1;32m   3176\u001b[0m \u001b[39m    and `kwargs` to the function's signature.  Raises `TypeError`\u001b[39;00m\n\u001b[1;32m   3177\u001b[0m \u001b[39m    if the passed arguments can not be bound.\u001b[39;00m\n\u001b[1;32m   3178\u001b[0m \u001b[39m    \"\"\"\u001b[39;00m\n\u001b[0;32m-> 3179\u001b[0m     \u001b[39mreturn\u001b[39;00m \u001b[39mself\u001b[39;49m\u001b[39m.\u001b[39;49m_bind(args, kwargs)\n",
      "File \u001b[0;32m/usr/lib/python3.10/inspect.py:3133\u001b[0m, in \u001b[0;36mSignature._bind\u001b[0;34m(self, args, kwargs, partial)\u001b[0m\n\u001b[1;32m   3130\u001b[0m     kwargs_param \u001b[39m=\u001b[39m param\n\u001b[1;32m   3131\u001b[0m     \u001b[39mcontinue\u001b[39;00m\n\u001b[0;32m-> 3133\u001b[0m \u001b[39mif\u001b[39;00m param\u001b[39m.\u001b[39mkind \u001b[39m==\u001b[39m _VAR_POSITIONAL:\n\u001b[1;32m   3134\u001b[0m     \u001b[39m# Named arguments don't refer to '*args'-like parameters.\u001b[39;00m\n\u001b[1;32m   3135\u001b[0m     \u001b[39m# We only arrive here if the positional arguments ended\u001b[39;00m\n\u001b[1;32m   3136\u001b[0m     \u001b[39m# before reaching the last parameter before *args.\u001b[39;00m\n\u001b[1;32m   3137\u001b[0m     \u001b[39mcontinue\u001b[39;00m\n\u001b[1;32m   3139\u001b[0m param_name \u001b[39m=\u001b[39m param\u001b[39m.\u001b[39mname\n",
      "\u001b[0;31mKeyboardInterrupt\u001b[0m: "
     ]
    }
   ],
   "source": [
    "while 1:\n",
    "    for x in range(MAXIMUM):\n",
    "        for y in range(MAXIMUM):\n",
    "            core(x,y)\n",
    "            clear_output(wait=True)\n",
    "            display(next_canvas)\n",
    "    canvas = next_canvas\n",
    "    next_canvas = np.zeros((MAXIMUM,MAXIMUM))"
   ]
  },
  {
   "cell_type": "code",
   "execution_count": 61,
   "metadata": {},
   "outputs": [],
   "source": [
    "canvas = next_canvas"
   ]
  },
  {
   "cell_type": "code",
   "execution_count": 63,
   "metadata": {},
   "outputs": [
    {
     "data": {
      "text/plain": [
       "array([[0., 0., 0., 0., 0., 0., 0., 0., 0.],\n",
       "       [1., 0., 1., 0., 0., 0., 0., 0., 0.],\n",
       "       [0., 1., 1., 0., 0., 0., 0., 0., 0.],\n",
       "       [0., 1., 0., 0., 0., 0., 0., 0., 0.],\n",
       "       [0., 0., 0., 0., 0., 0., 0., 0., 0.],\n",
       "       [0., 0., 0., 0., 0., 0., 0., 0., 0.],\n",
       "       [0., 0., 0., 0., 0., 0., 0., 0., 0.],\n",
       "       [0., 0., 0., 0., 0., 0., 0., 0., 0.],\n",
       "       [0., 0., 0., 0., 0., 0., 0., 0., 0.]])"
      ]
     },
     "execution_count": 63,
     "metadata": {},
     "output_type": "execute_result"
    }
   ],
   "source": [
    "next_canvas = np.zeros((MAXIMUM,MAXIMUM))\n",
    "canvas"
   ]
  },
  {
   "cell_type": "code",
   "execution_count": null,
   "metadata": {},
   "outputs": [],
   "source": [
    "d = [True, False, True]\n",
    "d.count(False)"
   ]
  },
  {
   "cell_type": "code",
   "execution_count": null,
   "metadata": {},
   "outputs": [],
   "source": [
    "for x in range(MAXIMUM):\n",
    "    print(x)"
   ]
  },
  {
   "cell_type": "code",
   "execution_count": null,
   "metadata": {},
   "outputs": [],
   "source": [
    "for x in range(5):\n",
    "    for y in range(5):\n",
    "        print(x,y)"
   ]
  }
 ],
 "metadata": {
  "kernelspec": {
   "display_name": "game-of-life-Qfj9Au-s-py3.10",
   "language": "python",
   "name": "python3"
  },
  "language_info": {
   "codemirror_mode": {
    "name": "ipython",
    "version": 3
   },
   "file_extension": ".py",
   "mimetype": "text/x-python",
   "name": "python",
   "nbconvert_exporter": "python",
   "pygments_lexer": "ipython3",
   "version": "3.10.6"
  },
  "orig_nbformat": 4
 },
 "nbformat": 4,
 "nbformat_minor": 2
}
