{
 "cells": [
  {
   "cell_type": "code",
   "execution_count": 1,
   "metadata": {},
   "outputs": [
    {
     "ename": "FileNotFoundError",
     "evalue": "[Errno 2] No such file or directory: '/var/folders/k1/hrvz78210fl_2fl85sb86f600000gn/T/ipykernel_41452'",
     "output_type": "error",
     "traceback": [
      "\u001b[0;31m---------------------------------------------------------------------------\u001b[0m",
      "\u001b[0;31mFileNotFoundError\u001b[0m                         Traceback (most recent call last)",
      "Cell \u001b[0;32mIn[1], line 18\u001b[0m\n\u001b[1;32m     14\u001b[0m         pyxel\u001b[39m.\u001b[39mcls(\u001b[39m0\u001b[39m)\n\u001b[1;32m     15\u001b[0m         pyxel\u001b[39m.\u001b[39mrect(\u001b[39mself\u001b[39m\u001b[39m.\u001b[39mx, \u001b[39m0\u001b[39m, \u001b[39m8\u001b[39m, \u001b[39m8\u001b[39m, \u001b[39m9\u001b[39m)\n\u001b[0;32m---> 18\u001b[0m App()\n",
      "Cell \u001b[0;32mIn[1], line 6\u001b[0m, in \u001b[0;36mApp.__init__\u001b[0;34m(self)\u001b[0m\n\u001b[1;32m      5\u001b[0m \u001b[39mdef\u001b[39;00m \u001b[39m__init__\u001b[39m(\u001b[39mself\u001b[39m):\n\u001b[0;32m----> 6\u001b[0m     pyxel\u001b[39m.\u001b[39;49minit(\u001b[39m160\u001b[39;49m, \u001b[39m120\u001b[39;49m)\n\u001b[1;32m      7\u001b[0m     \u001b[39mself\u001b[39m\u001b[39m.\u001b[39mx \u001b[39m=\u001b[39m \u001b[39m0\u001b[39m\n\u001b[1;32m      8\u001b[0m     pyxel\u001b[39m.\u001b[39mrun(\u001b[39mself\u001b[39m\u001b[39m.\u001b[39mupdate, \u001b[39mself\u001b[39m\u001b[39m.\u001b[39mdraw)\n",
      "File \u001b[0;32m<string>:1\u001b[0m\n",
      "\u001b[0;31mFileNotFoundError\u001b[0m: [Errno 2] No such file or directory: '/var/folders/k1/hrvz78210fl_2fl85sb86f600000gn/T/ipykernel_41452'"
     ]
    }
   ],
   "source": [
    "import pyxel\n",
    "\n",
    "\n",
    "class App:\n",
    "    def __init__(self):\n",
    "        pyxel.init(160, 120)\n",
    "        self.x = 0\n",
    "        pyxel.run(self.update, self.draw)\n",
    "\n",
    "    def update(self):\n",
    "        self.x = (self.x + 1) % pyxel.width\n",
    "\n",
    "    def draw(self):\n",
    "        pyxel.cls(0)\n",
    "        pyxel.rect(self.x, 0, 8, 8, 9)\n",
    "\n",
    "\n",
    "App()\n"
   ]
  }
 ],
 "metadata": {
  "kernelspec": {
   "display_name": "game-of-life-Qfj9Au-s-py3.10",
   "language": "python",
   "name": "python3"
  },
  "language_info": {
   "codemirror_mode": {
    "name": "ipython",
    "version": 3
   },
   "file_extension": ".py",
   "mimetype": "text/x-python",
   "name": "python",
   "nbconvert_exporter": "python",
   "pygments_lexer": "ipython3",
   "version": "3.11.1"
  },
  "orig_nbformat": 4
 },
 "nbformat": 4,
 "nbformat_minor": 2
}
